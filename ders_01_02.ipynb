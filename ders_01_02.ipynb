{
 "cells": [
  {
   "cell_type": "code",
   "execution_count": 5,
   "id": "432660c5-6ec0-443e-a764-10610be3d4fa",
   "metadata": {},
   "outputs": [],
   "source": [
    "unitPrice = 2500\n",
    "productName = \"Hava Temizleyici\"\n",
    "isLoggedIn = True\n",
    "interestRate = 4.5"
   ]
  },
  {
   "cell_type": "code",
   "execution_count": 9,
   "id": "ae351a59-8e41-41db-8da5-cf663b371dcc",
   "metadata": {},
   "outputs": [
    {
     "name": "stdout",
     "output_type": "stream",
     "text": [
      "Kullanıcı bilgileri doğrulandı.\n"
     ]
    }
   ],
   "source": [
    "if isLoggedIn:\n",
    "    print(\"Kullanıcı bilgileri doğrulandı.\")\n",
    "else:\n",
    "    print(\"Kullanıcı bilgileri hatalı.\")"
   ]
  },
  {
   "cell_type": "code",
   "execution_count": 11,
   "id": "aab15fe4-e8a7-405f-8e7b-770bb5ad8be4",
   "metadata": {},
   "outputs": [
    {
     "name": "stdout",
     "output_type": "stream",
     "text": [
      "FF\n"
     ]
    }
   ],
   "source": [
    "grade = 65\n",
    "if grade >= 90:\n",
    "    print(\"AA\")\n",
    "elif grade >=80:\n",
    "    print(\"BA\")\n",
    "elif grade >= 70:\n",
    "    print(\"CB\")\n",
    "else:\n",
    "    print(\"FF\")"
   ]
  },
  {
   "cell_type": "code",
   "execution_count": 17,
   "id": "1a9b6696-b9c4-401f-b5cf-a621d652b64b",
   "metadata": {},
   "outputs": [
    {
     "name": "stdout",
     "output_type": "stream",
     "text": [
      "0\n",
      "1\n",
      "2\n",
      "3\n",
      "4\n",
      "5\n",
      "6\n",
      "7\n",
      "8\n",
      "9\n"
     ]
    }
   ],
   "source": [
    "for i in range(10):\n",
    "    print(i)"
   ]
  },
  {
   "cell_type": "code",
   "execution_count": 19,
   "id": "1083f45f-c308-4cfa-8954-7f5071374045",
   "metadata": {},
   "outputs": [
    {
     "name": "stdout",
     "output_type": "stream",
     "text": [
      "2\n",
      "3\n",
      "4\n",
      "5\n",
      "6\n",
      "7\n",
      "8\n",
      "9\n"
     ]
    }
   ],
   "source": [
    "for i in range(2,10):\n",
    "    print(i)"
   ]
  },
  {
   "cell_type": "code",
   "execution_count": 21,
   "id": "f3777b12-bf11-421c-a8ec-a39572169f10",
   "metadata": {},
   "outputs": [
    {
     "name": "stdout",
     "output_type": "stream",
     "text": [
      "2\n",
      "5\n",
      "8\n"
     ]
    }
   ],
   "source": [
    "for i in range(2,10,3):\n",
    "    print(i)"
   ]
  },
  {
   "cell_type": "code",
   "execution_count": 23,
   "id": "b06c5319-c549-4542-8344-dd0afa4331db",
   "metadata": {},
   "outputs": [
    {
     "name": "stdout",
     "output_type": "stream",
     "text": [
      "Ankara\n",
      "İstanbul\n",
      "İzmir\n"
     ]
    }
   ],
   "source": [
    "cities = [\"Ankara\", \"İstanbul\", \"İzmir\"]\n",
    "for city in cities:\n",
    "    print(city)"
   ]
  },
  {
   "cell_type": "code",
   "execution_count": 25,
   "id": "f9d230e3-0dc2-448f-be88-d3621cf57d8e",
   "metadata": {},
   "outputs": [
    {
     "name": "stdout",
     "output_type": "stream",
     "text": [
      "A\n",
      "n\n",
      "k\n",
      "a\n",
      "r\n",
      "a\n"
     ]
    }
   ],
   "source": [
    "city = \"Ankara\" # --> [\"A\", \"n\", \"k\", \"a\", \"r\", \"a\"]\n",
    "for letter in city:\n",
    "    print(letter)"
   ]
  }
 ],
 "metadata": {
  "kernelspec": {
   "display_name": "Python [conda env:base] *",
   "language": "python",
   "name": "conda-base-py"
  },
  "language_info": {
   "codemirror_mode": {
    "name": "ipython",
    "version": 3
   },
   "file_extension": ".py",
   "mimetype": "text/x-python",
   "name": "python",
   "nbconvert_exporter": "python",
   "pygments_lexer": "ipython3",
   "version": "3.12.7"
  }
 },
 "nbformat": 4,
 "nbformat_minor": 5
}
