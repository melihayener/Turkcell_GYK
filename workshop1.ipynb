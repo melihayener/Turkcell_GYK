{
 "cells": [
  {
   "cell_type": "markdown",
   "metadata": {},
   "source": [
    "Worksops\n",
    "\n",
    "W1: Bir öğrenci yönetim sistemi için aşağıdaki veri yapısı verilmiştir:\n",
    "\n",
    "students = [ {\"name\": \"Ali\", \"grades\": {\"math\": 85, \"physics\": 90, \"history\": 78}}, {\"name\": \"Ayşe\", \"grades\": {\"math\": 92, \"physics\": 88, \"history\": 95}}, {\"name\": \"Mehmet\", \"grades\": {\"math\": 75, \"physics\": 80, \"history\": 85}}, {\"name\": \"Zeynep\", \"grades\": {\"math\": 90, \"physics\": 85, \"history\": 88}}, ] Yapılması gerekenler: En yüksek matematik notuna sahip öğrencinin adını bulun. Tüm derslerin ortalama notlarını içeren bir sözlük oluşturun. Ortalama notu 85'in üzerinde olan öğrencileri bir liste halinde döndürün. Bunu en verimli şekilde Python kodu ile nasıl yaparsınız?"
   ]
  },
  {
   "cell_type": "code",
   "execution_count": 1,
   "metadata": {},
   "outputs": [],
   "source": [
    "students = [\n",
    "    {\"name\": \"Ali\", \"grades\": {\"math\": 85, \"physics\": 90, \"history\": 78}},\n",
    "    {\"name\": \"Ayşe\", \"grades\": {\"math\": 92, \"physics\": 88, \"history\": 95}},\n",
    "    {\"name\": \"Mehmet\", \"grades\": {\"math\": 75, \"physics\": 80, \"history\": 85}},\n",
    "    {\"name\": \"Zeynep\", \"grades\": {\"math\": 90, \"physics\": 85, \"history\": 88}},\n",
    "]\n"
   ]
  },
  {
   "cell_type": "code",
   "execution_count": 2,
   "metadata": {},
   "outputs": [
    {
     "name": "stdout",
     "output_type": "stream",
     "text": [
      "Ayşe\n"
     ]
    }
   ],
   "source": [
    "grades = []\n",
    "for student in students:\n",
    "  grades.append(student[\"grades\"][\"math\"])\n",
    "i = 0\n",
    "for grade in grades:\n",
    "  if max(grades) == grade:\n",
    "    print(students[i][\"name\"])\n",
    "  i+=1"
   ]
  },
  {
   "cell_type": "code",
   "execution_count": 3,
   "metadata": {},
   "outputs": [
    {
     "data": {
      "text/plain": [
       "{'math': 85.5, 'physics': 85.75, 'history': 86.5}"
      ]
     },
     "execution_count": 3,
     "metadata": {},
     "output_type": "execute_result"
    }
   ],
   "source": [
    "math = 0\n",
    "physics = 0\n",
    "history = 0\n",
    "\n",
    "for student in students:\n",
    "  math += student[\"grades\"][\"math\"]\n",
    "  physics += student[\"grades\"][\"physics\"]\n",
    "  history += student[\"grades\"][\"history\"]\n",
    "averages = {}\n",
    "length = len(students)\n",
    "averages[\"math\"] = math/length\n",
    "averages[\"physics\"] = physics/length\n",
    "averages[\"history\"] = history/length\n",
    "averages"
   ]
  },
  {
   "cell_type": "code",
   "execution_count": null,
   "metadata": {},
   "outputs": [],
   "source": [
    "for student in students:\n",
    "  average = (student[\"grades\"][\"math\"] + student[\"grades\"][\"physics\"] + student[\"grades\"][\"history\"])/3\n",
    "  if average > 85:\n",
    "    print(student[\"name\"])"
   ]
  },
  {
   "cell_type": "markdown",
   "metadata": {},
   "source": [
    "W2 Bir şirkette çalışanların görevlerini ve maaşlarını içeren bir veri yapısı aşağıda verilmiştir:\n",
    "\n",
    "employees = [ { \"name\": \"Ahmet\", \"department\": \"IT\", \"salary\": 8500, \"tasks\": [ {\"task\": \"Database Optimization\", \"completed\": True, \"effort\": 5}, {\"task\": \"API Development\", \"completed\": True, \"effort\": 8}, {\"task\": \"Security Audit\", \"completed\": False, \"effort\": 6}, ], }, { \"name\": \"Elif\", \"department\": \"HR\", \"salary\": 7500, \"tasks\": [ {\"task\": \"Recruitment\", \"completed\": True, \"effort\": 7}, {\"task\": \"Training\", \"completed\": True, \"effort\": 4}, {\"task\": \"Policy Update\", \"completed\": False, \"effort\": 3}, ], }, { \"name\": \"Mehmet\", \"department\": \"IT\", \"salary\": 9200, \"tasks\": [ {\"task\": \"Cloud Migration\", \"completed\": True, \"effort\": 9}, {\"task\": \"Load Balancing\", \"completed\": True, \"effort\": 7}, {\"task\": \"System Monitoring\", \"completed\": True, \"effort\": 5}, ], }, { \"name\": \"Ayşe\", \"department\": \"Marketing\", \"salary\": 6800, \"tasks\": [ {\"task\": \"Social Media Campaign\", \"completed\": True, \"effort\": 6}, {\"task\": \"SEO Optimization\", \"completed\": False, \"effort\": 4}, {\"task\": \"Brand Strategy\", \"completed\": True, \"effort\": 7}, ], }, ] Yapılması Gerekenler: En yüksek maaşa sahip çalışanı bulun. Her departmandaki çalışanların toplam maaşlarını içeren bir sözlük oluşturun. Tüm görevlerin tamamlanma yüzdesini hesaplayın. (Tamamlanan görev sayısı / Toplam görev sayısı) Çalışanları tamamladıkları görevlerin toplam \"effort\" değerine göre sıralayarak listeleyin. Görevlerini %100 tamamlamış çalışanları listeleyin. Her departman için, en az bir görevini tamamlamış çalışanların adlarını içeren bir sözlük oluşturun."
   ]
  },
  {
   "cell_type": "code",
   "execution_count": 8,
   "metadata": {},
   "outputs": [],
   "source": [
    "employees = [\n",
    "    {\n",
    "        \"name\": \"Ahmet\",\n",
    "        \"department\": \"IT\",\n",
    "        \"salary\": 8500,\n",
    "        \"tasks\": [\n",
    "            {\"task\": \"Database Optimization\", \"completed\": True, \"effort\": 5},\n",
    "            {\"task\": \"API Development\", \"completed\": True, \"effort\": 8},\n",
    "            {\"task\": \"Security Audit\", \"completed\": False, \"effort\": 6},\n",
    "        ],\n",
    "    },\n",
    "    {\n",
    "        \"name\": \"Elif\",\n",
    "        \"department\": \"HR\",\n",
    "        \"salary\": 7500,\n",
    "        \"tasks\": [\n",
    "            {\"task\": \"Recruitment\", \"completed\": True, \"effort\": 7},\n",
    "            {\"task\": \"Training\", \"completed\": True, \"effort\": 4},\n",
    "            {\"task\": \"Policy Update\", \"completed\": False, \"effort\": 3},\n",
    "        ],\n",
    "    },\n",
    "    {\n",
    "        \"name\": \"Mehmet\",\n",
    "        \"department\": \"IT\",\n",
    "        \"salary\": 9200,\n",
    "        \"tasks\": [\n",
    "            {\"task\": \"Cloud Migration\", \"completed\": True, \"effort\": 9},\n",
    "            {\"task\": \"Load Balancing\", \"completed\": True, \"effort\": 7},\n",
    "            {\"task\": \"System Monitoring\", \"completed\": True, \"effort\": 5},\n",
    "        ],\n",
    "    },\n",
    "    {\n",
    "        \"name\": \"Ayşe\",\n",
    "        \"department\": \"Marketing\",\n",
    "        \"salary\": 6800,\n",
    "        \"tasks\": [\n",
    "            {\"task\": \"Social Media Campaign\", \"completed\": True, \"effort\": 6},\n",
    "            {\"task\": \"SEO Optimization\", \"completed\": False, \"effort\": 4},\n",
    "            {\"task\": \"Brand Strategy\", \"completed\": True, \"effort\": 7},\n",
    "        ],\n",
    "    },\n",
    "]"
   ]
  },
  {
   "cell_type": "code",
   "execution_count": 9,
   "metadata": {},
   "outputs": [
    {
     "name": "stdout",
     "output_type": "stream",
     "text": [
      "Mehmet\n"
     ]
    }
   ],
   "source": [
    "max = 0\n",
    "for employee in employees:\n",
    "  if employee[\"salary\"] > max:\n",
    "    max = employee[\"salary\"]\n",
    "for employee in employees:\n",
    "  if employee[\"salary\"] == max:\n",
    "    print(employee[\"name\"])"
   ]
  },
  {
   "cell_type": "code",
   "execution_count": 10,
   "metadata": {},
   "outputs": [
    {
     "data": {
      "text/plain": [
       "{'IT': 17700, 'HR': 7500, 'Marketing': 6800}"
      ]
     },
     "execution_count": 10,
     "metadata": {},
     "output_type": "execute_result"
    }
   ],
   "source": [
    "sum_salaries = {}\n",
    "for employee in employees:\n",
    "  if employee[\"department\"] in sum_salaries:\n",
    "    sum_salaries[employee[\"department\"]] += employee[\"salary\"]\n",
    "  else:\n",
    "    sum_salaries[employee[\"department\"]] = employee[\"salary\"]\n",
    "\n",
    "sum_salaries"
   ]
  },
  {
   "cell_type": "code",
   "execution_count": 11,
   "metadata": {},
   "outputs": [
    {
     "name": "stdout",
     "output_type": "stream",
     "text": [
      "Ahmet's completed tasks percentage: 66.67%\n",
      "Elif's completed tasks percentage: 66.67%\n",
      "Mehmet's completed tasks percentage: 100.00%\n",
      "Ayşe's completed tasks percentage: 66.67%\n"
     ]
    }
   ],
   "source": [
    "for employee in employees:\n",
    "    completed_task = sum(1 for task in employee[\"tasks\"] if task[\"completed\"])\n",
    "    total_tasks = len(employee[\"tasks\"])\n",
    "    percentage = (completed_task / total_tasks) * 100\n",
    "    print(f\"{employee['name']}'s completed tasks percentage: {percentage:.2f}%\")"
   ]
  },
  {
   "cell_type": "code",
   "execution_count": 12,
   "metadata": {},
   "outputs": [
    {
     "name": "stdout",
     "output_type": "stream",
     "text": [
      "[('Mehmet', 21), ('Ahmet', 13), ('Ayşe', 13), ('Elif', 11)]\n"
     ]
    }
   ],
   "source": [
    "for employee in employees:\n",
    "    total_effort = sum(task[\"effort\"] for task in employee[\"tasks\"] if task[\"completed\"])\n",
    "\n",
    "employee_effort = {}\n",
    "for employee in employees:\n",
    "    total_effort = sum(task[\"effort\"] for task in employee[\"tasks\"] if task[\"completed\"])\n",
    "    employee_effort[employee[\"name\"]] = total_effort\n",
    "\n",
    "sorted_employees = sorted(employee_effort.items(), key=lambda x: x[1], reverse=True)\n",
    "print(sorted_employees)"
   ]
  },
  {
   "cell_type": "code",
   "execution_count": 13,
   "metadata": {},
   "outputs": [
    {
     "name": "stdout",
     "output_type": "stream",
     "text": [
      "Mehmet\n"
     ]
    }
   ],
   "source": [
    "max = 0\n",
    "for employee in employees:\n",
    "  if employee[\"salary\"] > max:\n",
    "    max = employee[\"salary\"]\n",
    "for employee in employees:\n",
    "  if employee[\"salary\"] == max:\n",
    "    print(employee[\"name\"])"
   ]
  },
  {
   "cell_type": "code",
   "execution_count": 14,
   "metadata": {},
   "outputs": [
    {
     "data": {
      "text/plain": [
       "{'IT': ['Ahmet', 'Mehmet'], 'HR': ['Elif'], 'Marketing': ['Ayşe']}"
      ]
     },
     "execution_count": 14,
     "metadata": {},
     "output_type": "execute_result"
    }
   ],
   "source": [
    "departments = {}\n",
    "for employee in employees:\n",
    "  departments[employee[\"department\"]] = list()\n",
    "for employee in employees:\n",
    "  for task in employee[\"tasks\"]:\n",
    "    if task[\"completed\"] == True:\n",
    "        departments[employee[\"department\"]].append(employee[\"name\"])\n",
    "        break\n",
    "\n",
    "departments"
   ]
  },
  {
   "cell_type": "markdown",
   "metadata": {},
   "source": [
    "w3 Bir e-ticaret platformundaki siparişleri temsil eden veri yapısı aşağıda verilmiştir: orders = [ {\"customer\": \"Ali\", \"items\": [{\"name\": \"Laptop\", \"price\": 15000}, {\"name\": \"Mouse\", \"price\": 500}]}, {\"customer\": \"Ayşe\", \"items\": [{\"name\": \"Phone\", \"price\": 12000}, {\"name\": \"Headphones\", \"price\": 2000}]}, {\"customer\": \"Mehmet\", \"items\": [{\"name\": \"Tablet\", \"price\": 7000}, {\"name\": \"Keyboard\", \"price\": 1000}, {\"name\": \"Mouse\", \"price\": 600}]}, {\"customer\": \"Zeynep\", \"items\": [{\"name\": \"Monitor\", \"price\": 8000}, {\"name\": \"Phone\", \"price\": 11000}]}, ] Yapılması Gerekenler: Toplam sipariş tutarı en yüksek olan müşteriyi bulun. Her müşterinin toplam sipariş tutarını içeren bir sözlük oluşturun. En çok satılan ürünü bulun. (Birden fazla müşteri tarafından sipariş edilen ürün) Ortalama sipariş tutarını hesaplayın. Siparişlerinde toplam tutarı 10.000 TL’nin üzerinde olan müşterileri listeleyin."
   ]
  },
  {
   "cell_type": "code",
   "execution_count": 1,
   "metadata": {},
   "outputs": [],
   "source": [
    "orders = [\n",
    "    {\"customer\": \"Ali\", \"items\": [{\"name\": \"Laptop\", \"price\": 15000}, {\"name\": \"Mouse\", \"price\": 500}]},\n",
    "    {\"customer\": \"Ayşe\", \"items\": [{\"name\": \"Phone\", \"price\": 12000}, {\"name\": \"Headphones\", \"price\": 2000}]},\n",
    "    {\"customer\": \"Mehmet\", \"items\": [{\"name\": \"Tablet\", \"price\": 7000}, {\"name\": \"Keyboard\", \"price\": 1000}, {\"name\": \"Mouse\", \"price\": 600}]},\n",
    "    {\"customer\": \"Zeynep\", \"items\": [{\"name\": \"Monitor\", \"price\": 8000}, {\"name\": \"Phone\", \"price\": 11000}]},\n",
    "]"
   ]
  },
  {
   "cell_type": "code",
   "execution_count": 2,
   "metadata": {},
   "outputs": [
    {
     "name": "stdout",
     "output_type": "stream",
     "text": [
      "The highest total price: Zeynep\n"
     ]
    }
   ],
   "source": [
    "higher_customer = max(orders, key=lambda x: sum(item[\"price\"] for item in x[\"items\"]))\n",
    "print(\"The highest total price:\", higher_customer[\"customer\"])\n"
   ]
  },
  {
   "cell_type": "code",
   "execution_count": 3,
   "metadata": {},
   "outputs": [
    {
     "name": "stdout",
     "output_type": "stream",
     "text": [
      "Mouse\n"
     ]
    }
   ],
   "source": [
    "order_counts = {}\n",
    "for order in orders:\n",
    "  for item in order[\"items\"]:\n",
    "    if item[\"name\"] in order_counts:\n",
    "      order_counts[item[\"name\"]] += 1\n",
    "    else:\n",
    "      order_counts[item[\"name\"]] = 1\n",
    "\n",
    "\n",
    "most_sold_item = max(order_counts, key=order_counts.get)\n",
    "print(most_sold_item)"
   ]
  },
  {
   "cell_type": "code",
   "execution_count": 4,
   "metadata": {},
   "outputs": [
    {
     "name": "stdout",
     "output_type": "stream",
     "text": [
      "Average price: 14275.0\n"
     ]
    }
   ],
   "source": [
    "total_price = 0\n",
    "for order in orders:\n",
    "    for item in order[\"items\"]:\n",
    "        total_price += item[\"price\"]\n",
    "average_price = total_price / len(orders)\n",
    "print(\"Average price:\", average_price)"
   ]
  },
  {
   "cell_type": "code",
   "execution_count": 5,
   "metadata": {},
   "outputs": [
    {
     "name": "stdout",
     "output_type": "stream",
     "text": [
      "Ali\n",
      "Ayşe\n",
      "Zeynep\n"
     ]
    }
   ],
   "source": [
    "order_counts = {}\n",
    "for order in orders:\n",
    "  sum = 0\n",
    "  for item in order[\"items\"]:\n",
    "    sum += item[\"price\"]\n",
    "  if sum > 10000:\n",
    "    print(order[\"customer\"])"
   ]
  }
 ],
 "metadata": {
  "kernelspec": {
   "display_name": "base",
   "language": "python",
   "name": "python3"
  },
  "language_info": {
   "codemirror_mode": {
    "name": "ipython",
    "version": 3
   },
   "file_extension": ".py",
   "mimetype": "text/x-python",
   "name": "python",
   "nbconvert_exporter": "python",
   "pygments_lexer": "ipython3",
   "version": "3.12.7"
  }
 },
 "nbformat": 4,
 "nbformat_minor": 2
}
